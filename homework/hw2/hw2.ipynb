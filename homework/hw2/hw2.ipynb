{
 "cells": [
  {
   "cell_type": "code",
   "execution_count": 187,
   "id": "b5a6be93-cc96-4b5c-ad63-2335b49c6825",
   "metadata": {},
   "outputs": [
    {
     "name": "stdout",
     "output_type": "stream",
     "text": [
      "Collecting imblearn\n",
      "  Downloading imblearn-0.0-py2.py3-none-any.whl (1.9 kB)\n",
      "Collecting imbalanced-learn\n",
      "  Downloading imbalanced_learn-0.8.0-py3-none-any.whl (206 kB)\n",
      "Requirement already satisfied: joblib>=0.11 in c:\\users\\jack\\miniconda3\\envs\\datascience\\lib\\site-packages (from imbalanced-learn->imblearn) (1.0.1)\n",
      "Requirement already satisfied: scikit-learn>=0.24 in c:\\users\\jack\\miniconda3\\envs\\datascience\\lib\\site-packages (from imbalanced-learn->imblearn) (0.24.2)\n",
      "Requirement already satisfied: numpy>=1.13.3 in c:\\users\\jack\\miniconda3\\envs\\datascience\\lib\\site-packages (from imbalanced-learn->imblearn) (1.19.2)\n",
      "Requirement already satisfied: scipy>=0.19.1 in c:\\users\\jack\\miniconda3\\envs\\datascience\\lib\\site-packages (from imbalanced-learn->imblearn) (1.6.2)\n",
      "Requirement already satisfied: threadpoolctl>=2.0.0 in c:\\users\\jack\\miniconda3\\envs\\datascience\\lib\\site-packages (from scikit-learn>=0.24->imbalanced-learn->imblearn) (2.1.0)\n",
      "Installing collected packages: imbalanced-learn, imblearn\n",
      "Successfully installed imbalanced-learn-0.8.0 imblearn-0.0\n"
     ]
    }
   ],
   "source": [
    "# !pip install imblearn"
   ]
  },
  {
   "cell_type": "code",
   "execution_count": 1,
   "id": "3c9494eb-b27d-416e-8c52-b6bdeff4f29d",
   "metadata": {},
   "outputs": [],
   "source": [
    "import pandas as pd\n",
    "import numpy as np\n",
    "import seaborn as sns\n",
    "import lightgbm as lgb\n",
    "from collections import Counter\n",
    "from matplotlib import pyplot as plt\n",
    "from imblearn.over_sampling import SMOTE\n",
    "from sklearn.model_selection import train_test_split, cross_val_score, GridSearchCV\n",
    "from sklearn.metrics import roc_auc_score, accuracy_score\n",
    "\n",
    "%matplotlib inline"
   ]
  },
  {
   "cell_type": "code",
   "execution_count": 2,
   "id": "1e2402cb-6ee3-4311-85a1-0dd4fc2749a5",
   "metadata": {},
   "outputs": [],
   "source": [
    "train_data = pd.read_csv(r'train_final.csv')\n",
    "test_data = pd.read_csv(r'test_final.csv')"
   ]
  },
  {
   "cell_type": "markdown",
   "id": "13f40e32-b81b-44de-9d71-440bba19b500",
   "metadata": {},
   "source": [
    "训练集和测试集的大小都为50000个样本，146个特征，其中都包含目标 `loan_status`"
   ]
  },
  {
   "cell_type": "code",
   "execution_count": 3,
   "id": "32387744-b9cc-44ca-9408-fdaa63b2667e",
   "metadata": {},
   "outputs": [
    {
     "name": "stdout",
     "output_type": "stream",
     "text": [
      "train data size:  (50000, 146)\n",
      "test data size:  (50000, 146)\n"
     ]
    }
   ],
   "source": [
    "print(\"train data size: \", train_data.shape)\n",
    "print(\"test data size: \", test_data.shape)"
   ]
  },
  {
   "cell_type": "code",
   "execution_count": 4,
   "id": "6f2368a2-470e-4496-b898-39d7cfcb78c1",
   "metadata": {},
   "outputs": [
    {
     "data": {
      "text/plain": [
       "0    1\n",
       "1    1\n",
       "2    1\n",
       "3    1\n",
       "4    1\n",
       "Name: loan_status, dtype: int64"
      ]
     },
     "execution_count": 4,
     "metadata": {},
     "output_type": "execute_result"
    }
   ],
   "source": [
    "train_data['loan_status'].head()"
   ]
  },
  {
   "cell_type": "code",
   "execution_count": 5,
   "id": "26368638-1fd8-452b-961f-18b553c0e5a4",
   "metadata": {},
   "outputs": [
    {
     "name": "stdout",
     "output_type": "stream",
     "text": [
      "<class 'pandas.core.frame.DataFrame'>\n",
      "RangeIndex: 50000 entries, 0 to 49999\n",
      "Columns: 146 entries, continuous_annual_inc to discrete_term_2_one_hot\n",
      "dtypes: float64(20), int64(126)\n",
      "memory usage: 55.7 MB\n"
     ]
    }
   ],
   "source": [
    "train_data.info()"
   ]
  },
  {
   "cell_type": "code",
   "execution_count": 77,
   "id": "1dad9a99-633c-49f5-8221-fe8de6fc932d",
   "metadata": {},
   "outputs": [],
   "source": [
    "# [idx for idx in train_data.columns if train_data[idx].dtype == np.float64]"
   ]
  },
  {
   "cell_type": "markdown",
   "id": "cfd79149-5872-4c8d-8d2c-a8b9400881dc",
   "metadata": {},
   "source": [
    "## 缺失值研究"
   ]
  },
  {
   "cell_type": "code",
   "execution_count": 7,
   "id": "7d4975a3-4d03-4135-b7ec-3c3f52956371",
   "metadata": {},
   "outputs": [
    {
     "data": {
      "text/plain": [
       "continuous_annual_inc_joint               49780\n",
       "continuous_dti_joint                      49780\n",
       "continuous_mths_since_last_record         40505\n",
       "continuous_mths_since_last_major_derog    34948\n",
       "continuous_mths_since_last_delinq         23917\n",
       "continuous_dti                                1\n",
       "discrete_addr_state_29_one_hot                0\n",
       "discrete_addr_state_34_one_hot                0\n",
       "discrete_addr_state_33_one_hot                0\n",
       "discrete_addr_state_32_one_hot                0\n",
       "dtype: int64"
      ]
     },
     "execution_count": 7,
     "metadata": {},
     "output_type": "execute_result"
    }
   ],
   "source": [
    "train_data.isnull().sum().sort_values(ascending=False)[:10]"
   ]
  },
  {
   "cell_type": "code",
   "execution_count": 8,
   "id": "3d12575d-349a-4403-a4ec-252072e8ede7",
   "metadata": {},
   "outputs": [
    {
     "data": {
      "text/plain": [
       "(0.7960024106066693, 0.740909090909091)"
      ]
     },
     "execution_count": 8,
     "metadata": {},
     "output_type": "execute_result"
    }
   ],
   "source": [
    "sum(train_data['continuous_annual_inc_joint'].isnull() & train_data['loan_status'] == 1) / sum(train_data['continuous_annual_inc_joint'].isnull()),\\\n",
    "sum(train_data['continuous_annual_inc_joint'].notnull() & train_data['loan_status'] == 1) / sum(train_data['continuous_annual_inc_joint'].notnull())"
   ]
  },
  {
   "cell_type": "code",
   "execution_count": 9,
   "id": "26eabda4-6d36-40ad-8eca-f14bf74795b2",
   "metadata": {},
   "outputs": [
    {
     "data": {
      "text/plain": [
       "(0.7960024106066693, 0.740909090909091)"
      ]
     },
     "execution_count": 9,
     "metadata": {},
     "output_type": "execute_result"
    }
   ],
   "source": [
    "sum(train_data['continuous_dti_joint'].isnull() & train_data['loan_status'] == 1)/sum(train_data['continuous_dti_joint'].isnull()),\\\n",
    "sum(train_data['continuous_dti_joint'].notnull() & train_data['loan_status'] == 1)/sum(train_data['continuous_dti_joint'].notnull())"
   ]
  },
  {
   "cell_type": "code",
   "execution_count": 10,
   "id": "82fa54de-29ff-4e5a-8d0d-3dd69f8121e8",
   "metadata": {},
   "outputs": [
    {
     "data": {
      "text/plain": [
       "0.8095848953208872"
      ]
     },
     "execution_count": 10,
     "metadata": {},
     "output_type": "execute_result"
    }
   ],
   "source": [
    "record = sum(train_data['continuous_mths_since_last_record'].isnull())\n",
    "TP = sum(train_data['continuous_mths_since_last_record'].isnull() & train_data['loan_status'] == 1)\n",
    "precision = TP / sum(train_data['continuous_mths_since_last_record'].isnull())\n",
    "recall = TP / sum(train_data['loan_status'] == 1)\n",
    "2 * precision * recall / (precision + recall)"
   ]
  },
  {
   "cell_type": "code",
   "execution_count": 11,
   "id": "c265b0c8-e147-468e-a428-14e4b7d6f26f",
   "metadata": {},
   "outputs": [
    {
     "data": {
      "text/plain": [
       "(0.8024194543883472, 0.7673512374934176)"
      ]
     },
     "execution_count": 11,
     "metadata": {},
     "output_type": "execute_result"
    }
   ],
   "source": [
    "sum(train_data['continuous_mths_since_last_record'].isnull() & train_data['loan_status'] == 1) / sum(train_data['continuous_mths_since_last_record'].isnull()),\\\n",
    "sum(train_data['continuous_mths_since_last_record'].notnull() & train_data['loan_status'] == 1) / sum(train_data['continuous_mths_since_last_record'].notnull())"
   ]
  },
  {
   "cell_type": "code",
   "execution_count": 12,
   "id": "a2ebc3b8-20e1-4c5a-b1c2-3f32a5e73b5c",
   "metadata": {},
   "outputs": [
    {
     "data": {
      "text/plain": [
       "(34948, 28055, 0.802764106672771)"
      ]
     },
     "execution_count": 12,
     "metadata": {},
     "output_type": "execute_result"
    }
   ],
   "source": [
    "major_derog = sum(train_data['continuous_mths_since_last_major_derog'].isnull())\n",
    "major_derog_loan = sum(train_data['continuous_mths_since_last_major_derog'].isnull() & train_data['loan_status'] == 1)\n",
    "major_derog, major_derog_loan, major_derog_loan / major_derog"
   ]
  },
  {
   "cell_type": "code",
   "execution_count": 13,
   "id": "f59b6efa-a943-4c7d-89d6-3bf9b55e15cd",
   "metadata": {},
   "outputs": [
    {
     "data": {
      "text/plain": [
       "<AxesSubplot:xlabel='continuous_mths_since_last_major_derog', ylabel='Count'>"
      ]
     },
     "execution_count": 13,
     "metadata": {},
     "output_type": "execute_result"
    },
    {
     "data": {
      "image/png": "[encoded data removed]",
      "text/plain": [
       "<Figure size 432x288 with 1 Axes>"
      ]
     },
     "metadata": {
      "needs_background": "light"
     },
     "output_type": "display_data"
    }
   ],
   "source": [
    "sns.histplot(train_data['continuous_mths_since_last_major_derog'])"
   ]
  },
  {
   "cell_type": "code",
   "execution_count": 14,
   "id": "4ea1a31c-d30a-4814-bf9c-8471ed522aea",
   "metadata": {},
   "outputs": [
    {
     "data": {
      "text/plain": [
       "(23917, 19200, 0.8027762679265794)"
      ]
     },
     "execution_count": 14,
     "metadata": {},
     "output_type": "execute_result"
    }
   ],
   "source": [
    "delinq = sum(train_data['continuous_mths_since_last_delinq'].isnull())\n",
    "delinq_loan = sum(train_data['continuous_mths_since_last_delinq'].isnull() & train_data['loan_status'] == 1)\n",
    "delinq, delinq_loan, delinq_loan / delinq"
   ]
  },
  {
   "cell_type": "code",
   "execution_count": 15,
   "id": "d92b71ae-eda1-4545-a575-5baa8901e235",
   "metadata": {},
   "outputs": [
    {
     "data": {
      "text/plain": [
       "<AxesSubplot:xlabel='continuous_mths_since_last_delinq', ylabel='Count'>"
      ]
     },
     "execution_count": 15,
     "metadata": {},
     "output_type": "execute_result"
    },
    {
     "data": {
      "image/png": "[encoded data removed]",
      "text/plain": [
       "<Figure size 432x288 with 1 Axes>"
      ]
     },
     "metadata": {
      "needs_background": "light"
     },
     "output_type": "display_data"
    }
   ],
   "source": [
    "sns.histplot(train_data['continuous_mths_since_last_delinq'])"
   ]
  },
  {
   "cell_type": "markdown",
   "id": "2941caf1-edb7-44ef-a245-8b6dc4cc7ec3",
   "metadata": {},
   "source": [
    "## 缺失值处理\n",
    "\n",
    "- `continuous_dti`只有一个缺失值，用该特征平均值填充\n",
    "- `continuous_annual_inc_joint`与`continuous_dti_joint`几乎没有非null值，并且已有类似的特征在数据集里，所以直接除去\n",
    "- 其余几个特征缺失值太多，考虑将其一一转化成是否为null的binary特征"
   ]
  },
  {
   "cell_type": "code",
   "execution_count": 16,
   "id": "630df87b-73ac-46f1-a1e4-d2ea872d8e5a",
   "metadata": {},
   "outputs": [],
   "source": [
    "train_data.fillna(value={'continuous_dti': train_data['continuous_dti'].mean()}, inplace=True)\n",
    "train_data['continuous_mths_since_last_record_isnull'] = train_data['continuous_mths_since_last_record'].isnull()\n",
    "train_data['continuous_mths_since_last_major_derog_isnull'] = train_data['continuous_mths_since_last_major_derog'].isnull()\n",
    "train_data['continuous_mths_since_last_delinq_isnull'] = train_data['continuous_mths_since_last_delinq'].isnull()\n",
    "train_data.drop(columns=['continuous_annual_inc_joint',\n",
    "                         'continuous_dti_joint',\n",
    "                         'continuous_mths_since_last_record',\n",
    "                         'continuous_mths_since_last_major_derog',\n",
    "                         'continuous_mths_since_last_delinq'], inplace=True)"
   ]
  },
  {
   "cell_type": "code",
   "execution_count": 17,
   "id": "176a0fcb-4eaa-45f9-8a8d-52bed0741225",
   "metadata": {},
   "outputs": [],
   "source": [
    "test_data.fillna(value={'continuous_dti': test_data['continuous_dti'].mean()}, inplace=True)\n",
    "test_data['continuous_mths_since_last_record_isnull'] = test_data['continuous_mths_since_last_record'].isnull()\n",
    "test_data['continuous_mths_since_last_major_derog_isnull'] = test_data['continuous_mths_since_last_major_derog'].isnull()\n",
    "test_data['continuous_mths_since_last_delinq_isnull'] = test_data['continuous_mths_since_last_delinq'].isnull()\n",
    "test_data.drop(columns=['continuous_annual_inc_joint',\n",
    "                        'continuous_dti_joint',\n",
    "                        'continuous_mths_since_last_record',\n",
    "                        'continuous_mths_since_last_major_derog',\n",
    "                        'continuous_mths_since_last_delinq'], inplace=True)"
   ]
  },
  {
   "cell_type": "code",
   "execution_count": 18,
   "id": "0a881ba2-eb27-4032-8d1e-b5d596f3ddc6",
   "metadata": {},
   "outputs": [
    {
     "data": {
      "text/plain": [
       "continuous_mths_since_last_delinq_isnull         0\n",
       "continuous_mths_since_last_major_derog_isnull    0\n",
       "discrete_addr_state_36_one_hot                   0\n",
       "discrete_addr_state_35_one_hot                   0\n",
       "discrete_addr_state_34_one_hot                   0\n",
       "dtype: int64"
      ]
     },
     "execution_count": 18,
     "metadata": {},
     "output_type": "execute_result"
    }
   ],
   "source": [
    "train_data.isnull().sum().sort_values(ascending=False)[:5]"
   ]
  },
  {
   "cell_type": "code",
   "execution_count": 19,
   "id": "7ef49f2e-6c39-46b0-8902-0020335784b9",
   "metadata": {},
   "outputs": [
    {
     "data": {
      "text/plain": [
       "Index(['continuous_annual_inc', 'continuous_delinq_2yrs', 'continuous_dti',\n",
       "       'continuous_fico_range_high', 'continuous_fico_range_low',\n",
       "       'continuous_funded_amnt', 'continuous_funded_amnt_inv',\n",
       "       'continuous_inq_last_6mths', 'continuous_installment',\n",
       "       'continuous_int_rate',\n",
       "       ...\n",
       "       'discrete_sub_grade_31_one_hot', 'discrete_sub_grade_32_one_hot',\n",
       "       'discrete_sub_grade_33_one_hot', 'discrete_sub_grade_34_one_hot',\n",
       "       'discrete_sub_grade_35_one_hot', 'discrete_term_1_one_hot',\n",
       "       'discrete_term_2_one_hot', 'continuous_mths_since_last_record_isnull',\n",
       "       'continuous_mths_since_last_major_derog_isnull',\n",
       "       'continuous_mths_since_last_delinq_isnull'],\n",
       "      dtype='object', length=144)"
      ]
     },
     "execution_count": 19,
     "metadata": {},
     "output_type": "execute_result"
    }
   ],
   "source": [
    "train_data.columns"
   ]
  },
  {
   "cell_type": "markdown",
   "id": "cbc0be12-12aa-4384-93a7-aaba727a0714",
   "metadata": {},
   "source": [
    "## 数据集标签平衡性\n",
    "可以看到训练集的标签类别是分布不平衡的，`loan_status`为0的有大约10000个样本，为1的大约有40000个样本。考虑对样本不平衡进行处理。(采用SMOTE进行过采样，效果并无显著提升，最后没有处理，直接用原数据)"
   ]
  },
  {
   "cell_type": "code",
   "execution_count": 20,
   "id": "cd160ec0-b0a1-4283-92ad-3ef51c8535be",
   "metadata": {},
   "outputs": [
    {
     "data": {
      "text/plain": [
       "<AxesSubplot:xlabel='loan_status', ylabel='count'>"
      ]
     },
     "execution_count": 20,
     "metadata": {},
     "output_type": "execute_result"
    },
    {
     "data": {
      "image/png": "[encoded data removed]",
      "text/plain": [
       "<Figure size 432x288 with 1 Axes>"
      ]
     },
     "metadata": {
      "needs_background": "light"
     },
     "output_type": "display_data"
    }
   ],
   "source": [
    "sns.countplot(x='loan_status', data=train_data)"
   ]
  },
  {
   "cell_type": "code",
   "execution_count": 21,
   "id": "abb1ef2e-fbbf-4691-ae8d-3219737fb0a8",
   "metadata": {},
   "outputs": [
    {
     "data": {
      "text/plain": [
       "<AxesSubplot:xlabel='loan_status', ylabel='count'>"
      ]
     },
     "execution_count": 21,
     "metadata": {},
     "output_type": "execute_result"
    },
    {
     "data": {
      "image/png": "[encoded data removed]",
      "text/plain": [
       "<Figure size 432x288 with 1 Axes>"
      ]
     },
     "metadata": {
      "needs_background": "light"
     },
     "output_type": "display_data"
    }
   ],
   "source": [
    "sns.countplot(x='loan_status', data=test_data)"
   ]
  },
  {
   "cell_type": "markdown",
   "id": "0e150831-766d-4c90-a746-51fcddc98a13",
   "metadata": {},
   "source": [
    "## 关于one hot特征"
   ]
  },
  {
   "cell_type": "markdown",
   "id": "7404c6cf-73dd-42a1-860c-dff7c8e24c50",
   "metadata": {},
   "source": [
    "一开始考虑到lightgbm其中一个特点是可以直接处理类别型特征：\n",
    "\n",
    "```\n",
    "LightGBM can use categorical features as input directly. It doesn’t need to convert to one-hot encoding, and is much faster than one-hot encoding (about 8x speed-up).\n",
    "```\n",
    "\n",
    "而数据集里显然已经把所有类别型特征给转化成独热向量了；曾经尝试过通过以下几段注释掉的代码将独热向量反向转化为类别型特征，用整型代表，然后输入到模型里；但是表现并没有显著变化，所以最后放弃这部分处理。"
   ]
  },
  {
   "cell_type": "code",
   "execution_count": 22,
   "id": "c7ee9ba5-dd31-4894-bbfa-2e3acc62c946",
   "metadata": {},
   "outputs": [
    {
     "data": {
      "text/plain": [
       "{'discrete_addr_state': 49,\n",
       " 'discrete_application_type': 2,\n",
       " 'discrete_emp_length': 12,\n",
       " 'discrete_grade': 7,\n",
       " 'discrete_home_ownership': 4,\n",
       " 'discrete_policy_code': 1,\n",
       " 'discrete_purpose': 12,\n",
       " 'discrete_pymnt_plan': 1,\n",
       " 'discrete_sub_grade': 35,\n",
       " 'discrete_term': 2}"
      ]
     },
     "execution_count": 22,
     "metadata": {},
     "output_type": "execute_result"
    }
   ],
   "source": [
    "# one_hots = [idx for idx in train_data.columns if 'one_hot' in idx]\n",
    "# one_hot_dict = {}\n",
    "# for string in one_hots:\n",
    "#     string = string[:-8]\n",
    "#     n = int(string.split('_')[-1])\n",
    "#     s = '_'.join(string.split('_')[:-1])\n",
    "#     if s not in one_hot_dict.keys():\n",
    "#         one_hot_dict[s] = n\n",
    "#     else:\n",
    "#         one_hot_dict[s] = max(one_hot_dict[s], n)\n",
    "# one_hot_dict"
   ]
  },
  {
   "cell_type": "code",
   "execution_count": 105,
   "id": "d671bdd8-1b60-4c51-90de-cbd818943483",
   "metadata": {},
   "outputs": [],
   "source": [
    "# def helperOneHot(train_data, s, n):\n",
    "#     for i in range(train_data.shape[0]):\n",
    "#         for k in range(1, n + 1):\n",
    "#             if train_data.loc[i, '{}_{}_one_hot'.format(s, k)] == 1:\n",
    "#                 train_data.loc[i, s] = int(k)\n",
    "#                 break\n",
    "#     return train_data.astype({s: 'int64'})\n",
    "\n",
    "# train_data_no_oh = train_data\n",
    "# test_data_no_oh = test_data\n",
    "# for s, n in one_hot_dict.items():\n",
    "#     train_data_no_oh = helperOneHot(train_data_no_oh, s, n)\n",
    "#     test_data_no_oh = helperOneHot(test_data_no_oh, s, n)\n",
    "\n",
    "# for s in one_hot_dict.keys():\n",
    "#     cols = ['{}_{}_one_hot'.format(s, i) for i in range(1, one_hot_dict[s] + 1)]\n",
    "#     train_data_no_oh.drop(columns=cols, inplace=True)\n",
    "#     test_data_no_oh.drop(columns=cols, inplace=True)"
   ]
  },
  {
   "cell_type": "markdown",
   "id": "7ad02faf-e8db-43a7-b079-dd00cec3326b",
   "metadata": {},
   "source": [
    "## 训练集与验证集的划分"
   ]
  },
  {
   "cell_type": "code",
   "execution_count": 106,
   "id": "ce67973e-c54d-4d15-9f2a-b27ecbf37f99",
   "metadata": {},
   "outputs": [
    {
     "name": "stdout",
     "output_type": "stream",
     "text": [
      "(50000, 28) (50000,)\n",
      "(50000, 28) (50000,)\n"
     ]
    }
   ],
   "source": [
    "# X_train_no_oh, y_train_no_oh = train_data_no_oh.drop(columns='loan_status'), train_data_no_oh['loan_status']\n",
    "# print(X_train_no_oh.shape, y_train_no_oh.shape)\n",
    "\n",
    "# X_test_no_oh, y_test_no_oh = test_data_no_oh.drop(columns='loan_status'), test_data_no_oh['loan_status']\n",
    "# print(X_test_no_oh.shape, y_test_no_oh.shape)"
   ]
  },
  {
   "cell_type": "code",
   "execution_count": 107,
   "id": "794e4ecc-aab1-4d89-8f20-4fdc7ac07726",
   "metadata": {},
   "outputs": [
    {
     "name": "stdout",
     "output_type": "stream",
     "text": [
      "Counter({0: 20387, 1: 20358})\n",
      "Counter({1: 39788, 0: 39788})\n"
     ]
    }
   ],
   "source": [
    "# counter = Counter(y_train)\n",
    "# print(counter)\n",
    "# # # transform the dataset\n",
    "# oversample = SMOTE()\n",
    "# X_train_smote, y_train_smote = oversample.fit_resample(X_train_no_oh, y_train_no_oh)\n",
    "# counter = Counter(y_train_smote)\n",
    "# print(counter)"
   ]
  },
  {
   "cell_type": "markdown",
   "id": "c1e0ba8c-d3a7-485f-9908-8a5f90425c19",
   "metadata": {},
   "source": [
    "最后使用 `lgb.cv` 以及 `GridSearchCV` 去进行调参，并没有人为划分训练集和验证集"
   ]
  },
  {
   "cell_type": "code",
   "execution_count": 78,
   "id": "d8a30ff8-9419-474c-b97f-acac3fc5e5a5",
   "metadata": {},
   "outputs": [
    {
     "name": "stdout",
     "output_type": "stream",
     "text": [
      "(45000, 143) (5000, 143)\n"
     ]
    }
   ],
   "source": [
    "# X_train, X_val, y_train, y_val = train_test_split(X_train_no_oh, y_train_no_oh, test_size=0.1, stratify=y_train_no_oh)\n",
    "# X_train, X_val, y_train, y_val = train_test_split(X_train_no_oh, y_train_no_oh, test_size=0.1)\n",
    "# X_train, X_val, y_train, y_val = train_test_split(train_data.drop(columns='loan_status'), train_data['loan_status'], test_size=0.1)\n",
    "# X_train, X_val, y_train, y_val = train_test_split(X_train_smote, y_train_smote, test_size=0.2, stratify=y_train_smote)\n",
    "\n",
    "# print(X_train.head())\n",
    "print(X_train.shape, X_val.shape)"
   ]
  },
  {
   "cell_type": "markdown",
   "id": "863d6838-5363-4627-97de-7ee78ed5ef0d",
   "metadata": {},
   "source": [
    "先把整个训练数据转化成 `lgb.Dataset` 格式，然后输入到模型中，使用以下初始化参数"
   ]
  },
  {
   "cell_type": "code",
   "execution_count": 53,
   "id": "84b3f04e-8d2a-44fe-9f1f-e0e5455d1f59",
   "metadata": {},
   "outputs": [],
   "source": [
    "# 使用 lgb.Dataset 格式\n",
    "# train_lgb = lgb.Dataset(X_train, label=y_train, categorical_feature=list(one_hot_dict.keys()), free_raw_data=False)\n",
    "# validation_lgb = lgb.Dataset(X_val, label=y_val, categorical_feature=list(one_hot_dict.keys()), free_raw_data=False)\n",
    "data_lgb = lgb.Dataset(train_data.drop(columns='loan_status'), label=train_data['loan_status'], free_raw_data=False)\n",
    "train_lgb = lgb.Dataset(X_train, label=y_train, free_raw_data=False)\n",
    "validation_lgb = lgb.Dataset(X_val, label=y_val, free_raw_data=False)\n",
    "\n",
    "# 初始参数\n",
    "params = {\n",
    "    'boosting_type': 'gbdt',\n",
    "    'objective': 'binary',\n",
    "    'learning_rate': 0.1,\n",
    "    'metric': 'auc',\n",
    "    'num_iterations': 1000,\n",
    "    'num_leaves': 20,\n",
    "    'max_depth': 4,\n",
    "    'subsample': 0.8,\n",
    "    'colsample_bytree': 0.8\n",
    "}"
   ]
  },
  {
   "cell_type": "markdown",
   "id": "baa414e7-7662-45a7-8f22-2abb022f2943",
   "metadata": {},
   "source": [
    "用 `lgb.cv` 进行调参，得到 `n_estimators` 的最优值为 83"
   ]
  },
  {
   "cell_type": "code",
   "execution_count": 54,
   "id": "937847bc-e981-42fc-85cb-839b37985689",
   "metadata": {},
   "outputs": [
    {
     "name": "stderr",
     "output_type": "stream",
     "text": [
      "C:\\Users\\Jack\\miniconda3\\envs\\datascience\\lib\\site-packages\\lightgbm\\engine.py:527: UserWarning: Found `num_iterations` in params. Will use it instead of argument\n",
      "  _log_warning(\"Found `{}` in params. Will use it instead of argument\".format(alias))\n"
     ]
    },
    {
     "name": "stdout",
     "output_type": "stream",
     "text": [
      "[LightGBM] [Info] Number of positive: 31856, number of negative: 8144\n",
      "[LightGBM] [Warning] Auto-choosing row-wise multi-threading, the overhead of testing was 0.000933 seconds.\n",
      "You can set `force_row_wise=true` to remove the overhead.\n",
      "And if memory is not enough, you can set `force_col_wise=true`.\n",
      "[LightGBM] [Info] Total Bins 2152\n",
      "[LightGBM] [Info] Number of data points in the train set: 40000, number of used features: 139\n",
      "[LightGBM] [Info] Number of positive: 31852, number of negative: 8148\n",
      "[LightGBM] [Warning] Auto-choosing row-wise multi-threading, the overhead of testing was 0.000876 seconds.\n",
      "You can set `force_row_wise=true` to remove the overhead.\n",
      "And if memory is not enough, you can set `force_col_wise=true`.\n",
      "[LightGBM] [Info] Total Bins 2152\n",
      "[LightGBM] [Info] Number of data points in the train set: 40000, number of used features: 139\n",
      "[LightGBM] [Info] Number of positive: 31795, number of negative: 8205\n",
      "[LightGBM] [Warning] Auto-choosing row-wise multi-threading, the overhead of testing was 0.000933 seconds.\n",
      "You can set `force_row_wise=true` to remove the overhead.\n",
      "And if memory is not enough, you can set `force_col_wise=true`.\n",
      "[LightGBM] [Info] Total Bins 2152\n",
      "[LightGBM] [Info] Number of data points in the train set: 40000, number of used features: 139\n",
      "[LightGBM] [Info] Number of positive: 31798, number of negative: 8202\n",
      "[LightGBM] [Warning] Auto-choosing row-wise multi-threading, the overhead of testing was 0.000831 seconds.\n",
      "You can set `force_row_wise=true` to remove the overhead.\n",
      "And if memory is not enough, you can set `force_col_wise=true`.\n",
      "[LightGBM] [Info] Total Bins 2152\n",
      "[LightGBM] [Info] Number of data points in the train set: 40000, number of used features: 139\n",
      "[LightGBM] [Info] Number of positive: 31851, number of negative: 8149\n",
      "[LightGBM] [Warning] Auto-choosing row-wise multi-threading, the overhead of testing was 0.000895 seconds.\n",
      "You can set `force_row_wise=true` to remove the overhead.\n",
      "And if memory is not enough, you can set `force_col_wise=true`.\n",
      "[LightGBM] [Info] Total Bins 2152\n",
      "[LightGBM] [Info] Number of data points in the train set: 40000, number of used features: 139\n",
      "[LightGBM] [Info] [binary:BoostFromScore]: pavg=0.796400 -> initscore=1.363944\n",
      "[LightGBM] [Info] Start training from score 1.363944\n",
      "[LightGBM] [Info] [binary:BoostFromScore]: pavg=0.796300 -> initscore=1.363328\n",
      "[LightGBM] [Info] Start training from score 1.363328\n",
      "[LightGBM] [Info] [binary:BoostFromScore]: pavg=0.794875 -> initscore=1.354565\n",
      "[LightGBM] [Info] Start training from score 1.354565\n",
      "[LightGBM] [Info] [binary:BoostFromScore]: pavg=0.794950 -> initscore=1.355025\n",
      "[LightGBM] [Info] Start training from score 1.355025\n",
      "[LightGBM] [Info] [binary:BoostFromScore]: pavg=0.796275 -> initscore=1.363174\n",
      "[LightGBM] [Info] Start training from score 1.363174\n",
      "[LightGBM] [Warning] No further splits with positive gain, best gain: -inf\n",
      "[LightGBM] [Warning] No further splits with positive gain, best gain: -inf\n",
      "[LightGBM] [Warning] No further splits with positive gain, best gain: -inf\n",
      "[LightGBM] [Warning] No further splits with positive gain, best gain: -inf\n",
      "[LightGBM] [Warning] No further splits with positive gain, best gain: -inf\n",
      "[LightGBM] [Warning] No further splits with positive gain, best gain: -inf\n",
      "[LightGBM] [Warning] No further splits with positive gain, best gain: -inf\n",
      "[LightGBM] [Warning] No further splits with positive gain, best gain: -inf\n",
      "[LightGBM] [Warning] No further splits with positive gain, best gain: -inf\n",
      "[LightGBM] [Warning] No further splits with positive gain, best gain: -inf\n",
      "[LightGBM] [Warning] No further splits with positive gain, best gain: -inf\n",
      "[LightGBM] [Warning] No further splits with positive gain, best gain: -inf\n",
      "[LightGBM] [Warning] No further splits with positive gain, best gain: -inf\n",
      "[LightGBM] [Warning] No further splits with positive gain, best gain: -inf\n",
      "[LightGBM] [Warning] No further splits with positive gain, best gain: -inf\n",
      "[LightGBM] [Warning] No further splits with positive gain, best gain: -inf\n",
      "[LightGBM] [Warning] No further splits with positive gain, best gain: -inf\n",
      "[LightGBM] [Warning] No further splits with positive gain, best gain: -inf\n",
      "[LightGBM] [Warning] No further splits with positive gain, best gain: -inf\n",
      "[LightGBM] [Warning] No further splits with positive gain, best gain: -inf\n",
      "[LightGBM] [Warning] No further splits with positive gain, best gain: -inf\n",
      "[LightGBM] [Warning] No further splits with positive gain, best gain: -inf\n",
      "[LightGBM] [Warning] No further splits with positive gain, best gain: -inf\n",
      "[LightGBM] [Warning] No further splits with positive gain, best gain: -inf\n",
      "[LightGBM] [Warning] No further splits with positive gain, best gain: -inf\n",
      "[LightGBM] [Warning] No further splits with positive gain, best gain: -inf\n",
      "[LightGBM] [Warning] No further splits with positive gain, best gain: -inf\n",
      "[LightGBM] [Warning] No further splits with positive gain, best gain: -inf\n",
      "[LightGBM] [Warning] No further splits with positive gain, best gain: -inf\n",
      "[LightGBM] [Warning] No further splits with positive gain, best gain: -inf\n",
      "[LightGBM] [Warning] No further splits with positive gain, best gain: -inf\n",
      "[LightGBM] [Warning] No further splits with positive gain, best gain: -inf\n",
      "[LightGBM] [Warning] No further splits with positive gain, best gain: -inf\n",
      "[LightGBM] [Warning] No further splits with positive gain, best gain: -inf\n",
      "[LightGBM] [Warning] No further splits with positive gain, best gain: -inf\n",
      "[LightGBM] [Warning] No further splits with positive gain, best gain: -inf\n",
      "[LightGBM] [Warning] No further splits with positive gain, best gain: -inf\n",
      "[LightGBM] [Warning] No further splits with positive gain, best gain: -inf\n",
      "[LightGBM] [Warning] No further splits with positive gain, best gain: -inf\n",
      "[LightGBM] [Warning] No further splits with positive gain, best gain: -inf\n",
      "[LightGBM] [Warning] No further splits with positive gain, best gain: -inf\n",
      "[LightGBM] [Warning] No further splits with positive gain, best gain: -inf\n",
      "[LightGBM] [Warning] No further splits with positive gain, best gain: -inf\n",
      "[LightGBM] [Warning] No further splits with positive gain, best gain: -inf\n",
      "[LightGBM] [Warning] No further splits with positive gain, best gain: -inf\n",
      "[LightGBM] [Warning] No further splits with positive gain, best gain: -inf\n",
      "[LightGBM] [Warning] No further splits with positive gain, best gain: -inf\n",
      "[LightGBM] [Warning] No further splits with positive gain, best gain: -inf\n",
      "[LightGBM] [Warning] No further splits with positive gain, best gain: -inf\n",
      "[LightGBM] [Warning] No further splits with positive gain, best gain: -inf\n",
      "[LightGBM] [Warning] No further splits with positive gain, best gain: -inf\n",
      "[LightGBM] [Warning] No further splits with positive gain, best gain: -inf\n",
      "[LightGBM] [Warning] No further splits with positive gain, best gain: -inf\n",
      "[LightGBM] [Warning] No further splits with positive gain, best gain: -inf\n",
      "[LightGBM] [Warning] No further splits with positive gain, best gain: -inf\n",
      "[LightGBM] [Warning] No further splits with positive gain, best gain: -inf\n",
      "[LightGBM] [Warning] No further splits with positive gain, best gain: -inf\n",
      "[LightGBM] [Warning] No further splits with positive gain, best gain: -inf\n",
      "[LightGBM] [Warning] No further splits with positive gain, best gain: -inf\n",
      "[LightGBM] [Warning] No further splits with positive gain, best gain: -inf\n",
      "[LightGBM] [Warning] No further splits with positive gain, best gain: -inf\n",
      "[LightGBM] [Warning] No further splits with positive gain, best gain: -inf\n",
      "[LightGBM] [Warning] No further splits with positive gain, best gain: -inf\n",
      "[LightGBM] [Warning] No further splits with positive gain, best gain: -inf\n",
      "[LightGBM] [Warning] No further splits with positive gain, best gain: -inf\n",
      "[LightGBM] [Warning] No further splits with positive gain, best gain: -inf\n",
      "[LightGBM] [Warning] No further splits with positive gain, best gain: -inf\n",
      "[LightGBM] [Warning] No further splits with positive gain, best gain: -inf\n",
      "[LightGBM] [Warning] No further splits with positive gain, best gain: -inf\n",
      "[LightGBM] [Warning] No further splits with positive gain, best gain: -inf\n",
      "[LightGBM] [Warning] No further splits with positive gain, best gain: -inf\n",
      "[LightGBM] [Warning] No further splits with positive gain, best gain: -inf\n",
      "[LightGBM] [Warning] No further splits with positive gain, best gain: -inf\n",
      "[LightGBM] [Warning] No further splits with positive gain, best gain: -inf\n",
      "[LightGBM] [Warning] No further splits with positive gain, best gain: -inf\n",
      "[LightGBM] [Warning] No further splits with positive gain, best gain: -inf\n",
      "[LightGBM] [Warning] No further splits with positive gain, best gain: -inf\n",
      "[LightGBM] [Warning] No further splits with positive gain, best gain: -inf\n",
      "[LightGBM] [Warning] No further splits with positive gain, best gain: -inf\n",
      "[LightGBM] [Warning] No further splits with positive gain, best gain: -inf\n",
      "[LightGBM] [Warning] No further splits with positive gain, best gain: -inf\n",
      "[LightGBM] [Warning] No further splits with positive gain, best gain: -inf\n",
      "[LightGBM] [Warning] No further splits with positive gain, best gain: -inf\n",
      "[LightGBM] [Warning] No further splits with positive gain, best gain: -inf\n",
      "[LightGBM] [Warning] No further splits with positive gain, best gain: -inf\n",
      "[LightGBM] [Warning] No further splits with positive gain, best gain: -inf\n",
      "[LightGBM] [Warning] No further splits with positive gain, best gain: -inf\n",
      "[LightGBM] [Warning] No further splits with positive gain, best gain: -inf\n",
      "[LightGBM] [Warning] No further splits with positive gain, best gain: -inf\n",
      "[LightGBM] [Warning] No further splits with positive gain, best gain: -inf\n",
      "[LightGBM] [Warning] No further splits with positive gain, best gain: -inf\n",
      "[LightGBM] [Warning] No further splits with positive gain, best gain: -inf\n",
      "[LightGBM] [Warning] No further splits with positive gain, best gain: -inf\n",
      "[LightGBM] [Warning] No further splits with positive gain, best gain: -inf\n",
      "[LightGBM] [Warning] No further splits with positive gain, best gain: -inf\n",
      "[LightGBM] [Warning] No further splits with positive gain, best gain: -inf\n",
      "[LightGBM] [Warning] No further splits with positive gain, best gain: -inf\n",
      "[LightGBM] [Warning] No further splits with positive gain, best gain: -inf\n",
      "[LightGBM] [Warning] No further splits with positive gain, best gain: -inf\n",
      "[LightGBM] [Warning] No further splits with positive gain, best gain: -inf\n",
      "[LightGBM] [Warning] No further splits with positive gain, best gain: -inf\n",
      "[LightGBM] [Warning] No further splits with positive gain, best gain: -inf\n",
      "[LightGBM] [Warning] No further splits with positive gain, best gain: -inf\n",
      "[LightGBM] [Warning] No further splits with positive gain, best gain: -inf\n",
      "[LightGBM] [Warning] No further splits with positive gain, best gain: -inf\n",
      "[LightGBM] [Warning] No further splits with positive gain, best gain: -inf\n",
      "[LightGBM] [Warning] No further splits with positive gain, best gain: -inf\n",
      "[LightGBM] [Warning] No further splits with positive gain, best gain: -inf\n",
      "[LightGBM] [Warning] No further splits with positive gain, best gain: -inf\n",
      "[LightGBM] [Warning] No further splits with positive gain, best gain: -inf\n",
      "[LightGBM] [Warning] No further splits with positive gain, best gain: -inf\n",
      "[LightGBM] [Warning] No further splits with positive gain, best gain: -inf\n",
      "[LightGBM] [Warning] No further splits with positive gain, best gain: -inf\n",
      "[LightGBM] [Warning] No further splits with positive gain, best gain: -inf\n",
      "[LightGBM] [Warning] No further splits with positive gain, best gain: -inf\n",
      "[LightGBM] [Warning] No further splits with positive gain, best gain: -inf\n",
      "[LightGBM] [Warning] No further splits with positive gain, best gain: -inf\n",
      "[LightGBM] [Warning] No further splits with positive gain, best gain: -inf\n",
      "[LightGBM] [Warning] No further splits with positive gain, best gain: -inf\n",
      "[LightGBM] [Warning] No further splits with positive gain, best gain: -inf\n",
      "[LightGBM] [Warning] No further splits with positive gain, best gain: -inf\n",
      "[LightGBM] [Warning] No further splits with positive gain, best gain: -inf\n",
      "[LightGBM] [Warning] No further splits with positive gain, best gain: -inf\n",
      "[LightGBM] [Warning] No further splits with positive gain, best gain: -inf\n",
      "[LightGBM] [Warning] No further splits with positive gain, best gain: -inf\n",
      "[LightGBM] [Warning] No further splits with positive gain, best gain: -inf\n",
      "[LightGBM] [Warning] No further splits with positive gain, best gain: -inf\n",
      "[LightGBM] [Warning] No further splits with positive gain, best gain: -inf\n",
      "[LightGBM] [Warning] No further splits with positive gain, best gain: -inf\n",
      "[LightGBM] [Warning] No further splits with positive gain, best gain: -inf\n",
      "[LightGBM] [Warning] No further splits with positive gain, best gain: -inf\n",
      "[LightGBM] [Warning] No further splits with positive gain, best gain: -inf\n",
      "[LightGBM] [Warning] No further splits with positive gain, best gain: -inf\n",
      "[LightGBM] [Warning] No further splits with positive gain, best gain: -inf\n",
      "[LightGBM] [Warning] No further splits with positive gain, best gain: -inf\n",
      "[LightGBM] [Warning] No further splits with positive gain, best gain: -inf\n",
      "[LightGBM] [Warning] No further splits with positive gain, best gain: -inf\n",
      "[LightGBM] [Warning] No further splits with positive gain, best gain: -inf\n",
      "[LightGBM] [Warning] No further splits with positive gain, best gain: -inf\n",
      "[LightGBM] [Warning] No further splits with positive gain, best gain: -inf\n",
      "[LightGBM] [Warning] No further splits with positive gain, best gain: -inf\n",
      "[LightGBM] [Warning] No further splits with positive gain, best gain: -inf\n",
      "[LightGBM] [Warning] No further splits with positive gain, best gain: -inf\n",
      "[LightGBM] [Warning] No further splits with positive gain, best gain: -inf\n",
      "[LightGBM] [Warning] No further splits with positive gain, best gain: -inf\n",
      "[LightGBM] [Warning] No further splits with positive gain, best gain: -inf\n",
      "[LightGBM] [Warning] No further splits with positive gain, best gain: -inf\n",
      "[LightGBM] [Warning] No further splits with positive gain, best gain: -inf\n",
      "[LightGBM] [Warning] No further splits with positive gain, best gain: -inf\n",
      "[LightGBM] [Warning] No further splits with positive gain, best gain: -inf\n",
      "[LightGBM] [Warning] No further splits with positive gain, best gain: -inf\n",
      "[LightGBM] [Warning] No further splits with positive gain, best gain: -inf\n",
      "[LightGBM] [Warning] No further splits with positive gain, best gain: -inf\n",
      "[LightGBM] [Warning] No further splits with positive gain, best gain: -inf\n",
      "[LightGBM] [Warning] No further splits with positive gain, best gain: -inf\n",
      "[LightGBM] [Warning] No further splits with positive gain, best gain: -inf\n",
      "[LightGBM] [Warning] No further splits with positive gain, best gain: -inf\n",
      "[LightGBM] [Warning] No further splits with positive gain, best gain: -inf\n",
      "[LightGBM] [Warning] No further splits with positive gain, best gain: -inf\n",
      "[LightGBM] [Warning] No further splits with positive gain, best gain: -inf\n",
      "[LightGBM] [Warning] No further splits with positive gain, best gain: -inf\n",
      "[LightGBM] [Warning] No further splits with positive gain, best gain: -inf\n",
      "[LightGBM] [Warning] No further splits with positive gain, best gain: -inf\n",
      "[LightGBM] [Warning] No further splits with positive gain, best gain: -inf\n",
      "[LightGBM] [Warning] No further splits with positive gain, best gain: -inf\n",
      "[LightGBM] [Warning] No further splits with positive gain, best gain: -inf\n",
      "[LightGBM] [Warning] No further splits with positive gain, best gain: -inf\n",
      "[LightGBM] [Warning] No further splits with positive gain, best gain: -inf\n",
      "[LightGBM] [Warning] No further splits with positive gain, best gain: -inf\n",
      "[LightGBM] [Warning] No further splits with positive gain, best gain: -inf\n",
      "[LightGBM] [Warning] No further splits with positive gain, best gain: -inf\n",
      "[LightGBM] [Warning] No further splits with positive gain, best gain: -inf\n",
      "[LightGBM] [Warning] No further splits with positive gain, best gain: -inf\n",
      "[LightGBM] [Warning] No further splits with positive gain, best gain: -inf\n",
      "[LightGBM] [Warning] No further splits with positive gain, best gain: -inf\n",
      "[LightGBM] [Warning] No further splits with positive gain, best gain: -inf\n",
      "[LightGBM] [Warning] No further splits with positive gain, best gain: -inf\n",
      "[LightGBM] [Warning] No further splits with positive gain, best gain: -inf\n",
      "[LightGBM] [Warning] No further splits with positive gain, best gain: -inf\n",
      "[LightGBM] [Warning] No further splits with positive gain, best gain: -inf\n",
      "[LightGBM] [Warning] No further splits with positive gain, best gain: -inf\n",
      "[LightGBM] [Warning] No further splits with positive gain, best gain: -inf\n",
      "[LightGBM] [Warning] No further splits with positive gain, best gain: -inf\n",
      "[LightGBM] [Warning] No further splits with positive gain, best gain: -inf\n",
      "[LightGBM] [Warning] No further splits with positive gain, best gain: -inf\n",
      "[LightGBM] [Warning] No further splits with positive gain, best gain: -inf\n",
      "[LightGBM] [Warning] No further splits with positive gain, best gain: -inf\n",
      "[LightGBM] [Warning] No further splits with positive gain, best gain: -inf\n",
      "[LightGBM] [Warning] No further splits with positive gain, best gain: -inf\n",
      "[LightGBM] [Warning] No further splits with positive gain, best gain: -inf\n",
      "[LightGBM] [Warning] No further splits with positive gain, best gain: -inf\n",
      "[LightGBM] [Warning] No further splits with positive gain, best gain: -inf\n",
      "[LightGBM] [Warning] No further splits with positive gain, best gain: -inf\n",
      "[LightGBM] [Warning] No further splits with positive gain, best gain: -inf\n",
      "[LightGBM] [Warning] No further splits with positive gain, best gain: -inf\n",
      "[LightGBM] [Warning] No further splits with positive gain, best gain: -inf\n",
      "[LightGBM] [Warning] No further splits with positive gain, best gain: -inf\n",
      "[LightGBM] [Warning] No further splits with positive gain, best gain: -inf\n",
      "[LightGBM] [Warning] No further splits with positive gain, best gain: -inf\n",
      "[LightGBM] [Warning] No further splits with positive gain, best gain: -inf\n",
      "[LightGBM] [Warning] No further splits with positive gain, best gain: -inf\n",
      "[LightGBM] [Warning] No further splits with positive gain, best gain: -inf\n",
      "[LightGBM] [Warning] No further splits with positive gain, best gain: -inf\n",
      "[LightGBM] [Warning] No further splits with positive gain, best gain: -inf\n",
      "[LightGBM] [Warning] No further splits with positive gain, best gain: -inf\n",
      "[LightGBM] [Warning] No further splits with positive gain, best gain: -inf\n",
      "[LightGBM] [Warning] No further splits with positive gain, best gain: -inf\n",
      "[LightGBM] [Warning] No further splits with positive gain, best gain: -inf\n",
      "[LightGBM] [Warning] No further splits with positive gain, best gain: -inf\n",
      "[LightGBM] [Warning] No further splits with positive gain, best gain: -inf\n",
      "[LightGBM] [Warning] No further splits with positive gain, best gain: -inf\n",
      "[LightGBM] [Warning] No further splits with positive gain, best gain: -inf\n",
      "[LightGBM] [Warning] No further splits with positive gain, best gain: -inf\n",
      "[LightGBM] [Warning] No further splits with positive gain, best gain: -inf\n",
      "[LightGBM] [Warning] No further splits with positive gain, best gain: -inf\n",
      "[LightGBM] [Warning] No further splits with positive gain, best gain: -inf\n",
      "[LightGBM] [Warning] No further splits with positive gain, best gain: -inf\n",
      "[LightGBM] [Warning] No further splits with positive gain, best gain: -inf\n",
      "[LightGBM] [Warning] No further splits with positive gain, best gain: -inf\n",
      "[LightGBM] [Warning] No further splits with positive gain, best gain: -inf\n",
      "[LightGBM] [Warning] No further splits with positive gain, best gain: -inf\n",
      "[LightGBM] [Warning] No further splits with positive gain, best gain: -inf\n",
      "[LightGBM] [Warning] No further splits with positive gain, best gain: -inf\n",
      "[LightGBM] [Warning] No further splits with positive gain, best gain: -inf\n",
      "[LightGBM] [Warning] No further splits with positive gain, best gain: -inf\n",
      "[LightGBM] [Warning] No further splits with positive gain, best gain: -inf\n",
      "[LightGBM] [Warning] No further splits with positive gain, best gain: -inf\n",
      "[LightGBM] [Warning] No further splits with positive gain, best gain: -inf\n",
      "[LightGBM] [Warning] No further splits with positive gain, best gain: -inf\n",
      "[LightGBM] [Warning] No further splits with positive gain, best gain: -inf\n",
      "[LightGBM] [Warning] No further splits with positive gain, best gain: -inf\n",
      "[LightGBM] [Warning] No further splits with positive gain, best gain: -inf\n",
      "[LightGBM] [Warning] No further splits with positive gain, best gain: -inf\n",
      "[LightGBM] [Warning] No further splits with positive gain, best gain: -inf\n",
      "[LightGBM] [Warning] No further splits with positive gain, best gain: -inf\n",
      "[LightGBM] [Warning] No further splits with positive gain, best gain: -inf\n",
      "[LightGBM] [Warning] No further splits with positive gain, best gain: -inf\n",
      "[LightGBM] [Warning] No further splits with positive gain, best gain: -inf\n",
      "[LightGBM] [Warning] No further splits with positive gain, best gain: -inf\n",
      "[LightGBM] [Warning] No further splits with positive gain, best gain: -inf\n",
      "[LightGBM] [Warning] No further splits with positive gain, best gain: -inf\n",
      "[LightGBM] [Warning] No further splits with positive gain, best gain: -inf\n",
      "[LightGBM] [Warning] No further splits with positive gain, best gain: -inf\n",
      "[LightGBM] [Warning] No further splits with positive gain, best gain: -inf\n",
      "[LightGBM] [Warning] No further splits with positive gain, best gain: -inf\n",
      "[LightGBM] [Warning] No further splits with positive gain, best gain: -inf\n",
      "[LightGBM] [Warning] No further splits with positive gain, best gain: -inf\n",
      "[LightGBM] [Warning] No further splits with positive gain, best gain: -inf\n",
      "[LightGBM] [Warning] No further splits with positive gain, best gain: -inf\n",
      "[LightGBM] [Warning] No further splits with positive gain, best gain: -inf\n",
      "[LightGBM] [Warning] No further splits with positive gain, best gain: -inf\n",
      "[LightGBM] [Warning] No further splits with positive gain, best gain: -inf\n",
      "[LightGBM] [Warning] No further splits with positive gain, best gain: -inf\n",
      "[LightGBM] [Warning] No further splits with positive gain, best gain: -inf\n",
      "[LightGBM] [Warning] No further splits with positive gain, best gain: -inf\n",
      "[LightGBM] [Warning] No further splits with positive gain, best gain: -inf\n",
      "[LightGBM] [Warning] No further splits with positive gain, best gain: -inf\n",
      "[LightGBM] [Warning] No further splits with positive gain, best gain: -inf\n",
      "[LightGBM] [Warning] No further splits with positive gain, best gain: -inf\n",
      "[LightGBM] [Warning] No further splits with positive gain, best gain: -inf\n",
      "[LightGBM] [Warning] No further splits with positive gain, best gain: -inf\n",
      "[LightGBM] [Warning] No further splits with positive gain, best gain: -inf\n",
      "[LightGBM] [Warning] No further splits with positive gain, best gain: -inf\n",
      "[LightGBM] [Warning] No further splits with positive gain, best gain: -inf\n",
      "[LightGBM] [Warning] No further splits with positive gain, best gain: -inf\n",
      "[LightGBM] [Warning] No further splits with positive gain, best gain: -inf\n",
      "[LightGBM] [Warning] No further splits with positive gain, best gain: -inf\n",
      "[LightGBM] [Warning] No further splits with positive gain, best gain: -inf\n",
      "[LightGBM] [Warning] No further splits with positive gain, best gain: -inf\n",
      "[LightGBM] [Warning] No further splits with positive gain, best gain: -inf\n",
      "[LightGBM] [Warning] No further splits with positive gain, best gain: -inf\n",
      "[LightGBM] [Warning] No further splits with positive gain, best gain: -inf\n",
      "[LightGBM] [Warning] No further splits with positive gain, best gain: -inf\n",
      "[LightGBM] [Warning] No further splits with positive gain, best gain: -inf\n",
      "[LightGBM] [Warning] No further splits with positive gain, best gain: -inf\n",
      "[LightGBM] [Warning] No further splits with positive gain, best gain: -inf\n",
      "[LightGBM] [Warning] No further splits with positive gain, best gain: -inf\n",
      "[LightGBM] [Warning] No further splits with positive gain, best gain: -inf\n",
      "[LightGBM] [Warning] No further splits with positive gain, best gain: -inf\n",
      "[LightGBM] [Warning] No further splits with positive gain, best gain: -inf\n",
      "[LightGBM] [Warning] No further splits with positive gain, best gain: -inf\n",
      "[LightGBM] [Warning] No further splits with positive gain, best gain: -inf\n",
      "[LightGBM] [Warning] No further splits with positive gain, best gain: -inf\n",
      "[LightGBM] [Warning] No further splits with positive gain, best gain: -inf\n",
      "[LightGBM] [Warning] No further splits with positive gain, best gain: -inf\n",
      "[LightGBM] [Warning] No further splits with positive gain, best gain: -inf\n",
      "[LightGBM] [Warning] No further splits with positive gain, best gain: -inf\n",
      "[LightGBM] [Warning] No further splits with positive gain, best gain: -inf\n",
      "[LightGBM] [Warning] No further splits with positive gain, best gain: -inf\n",
      "[LightGBM] [Warning] No further splits with positive gain, best gain: -inf\n",
      "[LightGBM] [Warning] No further splits with positive gain, best gain: -inf\n",
      "[LightGBM] [Warning] No further splits with positive gain, best gain: -inf\n",
      "[LightGBM] [Warning] No further splits with positive gain, best gain: -inf\n",
      "[LightGBM] [Warning] No further splits with positive gain, best gain: -inf\n",
      "[LightGBM] [Warning] No further splits with positive gain, best gain: -inf\n",
      "[LightGBM] [Warning] No further splits with positive gain, best gain: -inf\n",
      "[LightGBM] [Warning] No further splits with positive gain, best gain: -inf\n",
      "[LightGBM] [Warning] No further splits with positive gain, best gain: -inf\n",
      "[LightGBM] [Warning] No further splits with positive gain, best gain: -inf\n",
      "[LightGBM] [Warning] No further splits with positive gain, best gain: -inf\n",
      "[LightGBM] [Warning] No further splits with positive gain, best gain: -inf\n",
      "[LightGBM] [Warning] No further splits with positive gain, best gain: -inf\n",
      "[LightGBM] [Warning] No further splits with positive gain, best gain: -inf\n",
      "[LightGBM] [Warning] No further splits with positive gain, best gain: -inf\n",
      "[LightGBM] [Warning] No further splits with positive gain, best gain: -inf\n",
      "[LightGBM] [Warning] No further splits with positive gain, best gain: -inf\n",
      "[LightGBM] [Warning] No further splits with positive gain, best gain: -inf\n",
      "[LightGBM] [Warning] No further splits with positive gain, best gain: -inf\n",
      "[LightGBM] [Warning] No further splits with positive gain, best gain: -inf\n",
      "[LightGBM] [Warning] No further splits with positive gain, best gain: -inf\n",
      "[LightGBM] [Warning] No further splits with positive gain, best gain: -inf\n",
      "[LightGBM] [Warning] No further splits with positive gain, best gain: -inf\n",
      "[LightGBM] [Warning] No further splits with positive gain, best gain: -inf\n",
      "[LightGBM] [Warning] No further splits with positive gain, best gain: -inf\n",
      "[LightGBM] [Warning] No further splits with positive gain, best gain: -inf\n",
      "[LightGBM] [Warning] No further splits with positive gain, best gain: -inf\n",
      "[LightGBM] [Warning] No further splits with positive gain, best gain: -inf\n",
      "[LightGBM] [Warning] No further splits with positive gain, best gain: -inf\n",
      "[LightGBM] [Warning] No further splits with positive gain, best gain: -inf\n",
      "[LightGBM] [Warning] No further splits with positive gain, best gain: -inf\n",
      "[LightGBM] [Warning] No further splits with positive gain, best gain: -inf\n",
      "[LightGBM] [Warning] No further splits with positive gain, best gain: -inf\n",
      "[LightGBM] [Warning] No further splits with positive gain, best gain: -inf\n",
      "[LightGBM] [Warning] No further splits with positive gain, best gain: -inf\n",
      "[LightGBM] [Warning] No further splits with positive gain, best gain: -inf\n",
      "[LightGBM] [Warning] No further splits with positive gain, best gain: -inf\n",
      "[LightGBM] [Warning] No further splits with positive gain, best gain: -inf\n",
      "[LightGBM] [Warning] No further splits with positive gain, best gain: -inf\n",
      "[LightGBM] [Warning] No further splits with positive gain, best gain: -inf\n",
      "[LightGBM] [Warning] No further splits with positive gain, best gain: -inf\n",
      "[LightGBM] [Warning] No further splits with positive gain, best gain: -inf\n",
      "[LightGBM] [Warning] No further splits with positive gain, best gain: -inf\n",
      "[LightGBM] [Warning] No further splits with positive gain, best gain: -inf\n",
      "[LightGBM] [Warning] No further splits with positive gain, best gain: -inf\n",
      "[LightGBM] [Warning] No further splits with positive gain, best gain: -inf\n",
      "[LightGBM] [Warning] No further splits with positive gain, best gain: -inf\n",
      "[LightGBM] [Warning] No further splits with positive gain, best gain: -inf\n",
      "[LightGBM] [Warning] No further splits with positive gain, best gain: -inf\n",
      "[LightGBM] [Warning] No further splits with positive gain, best gain: -inf\n",
      "[LightGBM] [Warning] No further splits with positive gain, best gain: -inf\n",
      "[LightGBM] [Warning] No further splits with positive gain, best gain: -inf\n",
      "[LightGBM] [Warning] No further splits with positive gain, best gain: -inf\n",
      "[LightGBM] [Warning] No further splits with positive gain, best gain: -inf\n",
      "[LightGBM] [Warning] No further splits with positive gain, best gain: -inf\n",
      "[LightGBM] [Warning] No further splits with positive gain, best gain: -inf\n",
      "[LightGBM] [Warning] No further splits with positive gain, best gain: -inf\n",
      "[LightGBM] [Warning] No further splits with positive gain, best gain: -inf\n",
      "[LightGBM] [Warning] No further splits with positive gain, best gain: -inf\n",
      "[LightGBM] [Warning] No further splits with positive gain, best gain: -inf\n",
      "[LightGBM] [Warning] No further splits with positive gain, best gain: -inf\n",
      "[LightGBM] [Warning] No further splits with positive gain, best gain: -inf\n",
      "[LightGBM] [Warning] No further splits with positive gain, best gain: -inf\n",
      "[LightGBM] [Warning] No further splits with positive gain, best gain: -inf\n",
      "[LightGBM] [Warning] No further splits with positive gain, best gain: -inf\n",
      "[LightGBM] [Warning] No further splits with positive gain, best gain: -inf\n",
      "[LightGBM] [Warning] No further splits with positive gain, best gain: -inf\n",
      "[LightGBM] [Warning] No further splits with positive gain, best gain: -inf\n",
      "[LightGBM] [Warning] No further splits with positive gain, best gain: -inf\n",
      "[LightGBM] [Warning] No further splits with positive gain, best gain: -inf\n",
      "[LightGBM] [Warning] No further splits with positive gain, best gain: -inf\n",
      "[LightGBM] [Warning] No further splits with positive gain, best gain: -inf\n",
      "[LightGBM] [Warning] No further splits with positive gain, best gain: -inf\n",
      "[LightGBM] [Warning] No further splits with positive gain, best gain: -inf\n",
      "[LightGBM] [Warning] No further splits with positive gain, best gain: -inf\n",
      "[LightGBM] [Warning] No further splits with positive gain, best gain: -inf\n",
      "[LightGBM] [Warning] No further splits with positive gain, best gain: -inf\n",
      "[LightGBM] [Warning] No further splits with positive gain, best gain: -inf\n",
      "[LightGBM] [Warning] No further splits with positive gain, best gain: -inf\n",
      "[LightGBM] [Warning] No further splits with positive gain, best gain: -inf\n",
      "[LightGBM] [Warning] No further splits with positive gain, best gain: -inf\n",
      "[LightGBM] [Warning] No further splits with positive gain, best gain: -inf\n",
      "[LightGBM] [Warning] No further splits with positive gain, best gain: -inf\n",
      "[LightGBM] [Warning] No further splits with positive gain, best gain: -inf\n",
      "[LightGBM] [Warning] No further splits with positive gain, best gain: -inf\n",
      "[LightGBM] [Warning] No further splits with positive gain, best gain: -inf\n",
      "[LightGBM] [Warning] No further splits with positive gain, best gain: -inf\n",
      "[LightGBM] [Warning] No further splits with positive gain, best gain: -inf\n",
      "[LightGBM] [Warning] No further splits with positive gain, best gain: -inf\n",
      "[LightGBM] [Warning] No further splits with positive gain, best gain: -inf\n",
      "[LightGBM] [Warning] No further splits with positive gain, best gain: -inf\n",
      "best n_estimators: 83\n",
      "best cv score: 0.9608433011135118\n"
     ]
    }
   ],
   "source": [
    "# 模型训练\n",
    "# gbm = lgb.train(params, train_lgb, valid_sets=[validation_lgb])\n",
    "\n",
    "\n",
    "cv_results = lgb.cv(params, data_lgb, num_boost_round=1000, nfold=5, stratified=False, shuffle=True, metrics='auc', early_stopping_rounds=50, seed=0)\n",
    "print('best n_estimators:', len(cv_results['auc-mean']))\n",
    "print('best cv score:', pd.Series(cv_results['auc-mean']).max())"
   ]
  },
  {
   "cell_type": "markdown",
   "id": "1b4e8820-6ab4-440e-a1a3-c347ba407f33",
   "metadata": {},
   "source": [
    "best `n_estimators` value is 83"
   ]
  },
  {
   "cell_type": "markdown",
   "id": "9a7f0ad0-f42a-4e7e-b5c0-ba6a591ed09d",
   "metadata": {},
   "source": [
    "得到 `n_estimators` 的最优值后，开始进行第一轮网格搜索调参，第一轮的参数为 `max_depth` 和 `num_leaves`；得到的最优值分别为 4 和 10"
   ]
  },
  {
   "cell_type": "code",
   "execution_count": 56,
   "id": "4ff13970-93bf-4f20-9ce0-6e6f89562b63",
   "metadata": {},
   "outputs": [
    {
     "data": {
      "text/plain": [
       "(array([0.96068497, 0.96068497, 0.96068497, 0.96068497, 0.96068497,\n",
       "        0.96068497, 0.96068497, 0.96068497, 0.96068497, 0.96068497,\n",
       "        0.96068497, 0.96068497, 0.96068497, 0.96068497, 0.96068497,\n",
       "        0.96068497, 0.96068497, 0.96068497, 0.96068497, 0.96082095,\n",
       "        0.96103586, 0.96103586, 0.96103586, 0.96103586, 0.96103586,\n",
       "        0.96103586, 0.96103586, 0.96103586, 0.96103586, 0.96103586,\n",
       "        0.96103586, 0.96103586, 0.96103586, 0.96103586, 0.96103586,\n",
       "        0.96103586, 0.96103586, 0.96103586, 0.96089721, 0.96111723,\n",
       "        0.96088435, 0.96092834, 0.96092834, 0.96092834, 0.96092834,\n",
       "        0.96092834, 0.96092834, 0.96092834, 0.96092834, 0.96092834,\n",
       "        0.96092834, 0.96092834, 0.96092834, 0.96092834, 0.96092834,\n",
       "        0.96092834, 0.96092834, 0.96089721, 0.96094652, 0.9609954 ,\n",
       "        0.96082558, 0.96060316, 0.96056288, 0.96044602, 0.96044602,\n",
       "        0.96044602, 0.96044602, 0.96044602, 0.96044602, 0.96044602,\n",
       "        0.96044602, 0.96044602, 0.96044602, 0.96044602, 0.96044602,\n",
       "        0.96044602, 0.96089721, 0.96091934, 0.96084894, 0.96068191,\n",
       "        0.96044873, 0.96032326, 0.96028322, 0.96019266, 0.95997514,\n",
       "        0.96004   , 0.95999664, 0.95997875, 0.95995706, 0.95995706,\n",
       "        0.95995706, 0.95995706, 0.95995706, 0.95995706, 0.95995706,\n",
       "        0.96089721, 0.96097118, 0.96082643, 0.96061995, 0.96049768,\n",
       "        0.96049996, 0.96001299, 0.95983117, 0.95990553, 0.95978005,\n",
       "        0.95963691, 0.95962657, 0.95961114, 0.95944057, 0.95943203,\n",
       "        0.95942918, 0.95953964, 0.95914864, 0.95947342, 0.96089721,\n",
       "        0.96092858, 0.96093808, 0.96076017, 0.96044615, 0.96034374,\n",
       "        0.96010861, 0.96000475, 0.95997212, 0.95987829, 0.95964574,\n",
       "        0.95960674, 0.95937185, 0.95923325, 0.95915181, 0.95925201,\n",
       "        0.95912804, 0.95930986, 0.95922137, 0.96089721, 0.96094146,\n",
       "        0.96081751, 0.96083461, 0.96042486, 0.96040946, 0.96038425,\n",
       "        0.96001428, 0.95980696, 0.95973247, 0.95944011, 0.95941865,\n",
       "        0.95910425, 0.95961542, 0.95932939, 0.95928848, 0.95907419,\n",
       "        0.9586812 , 0.95898002]),\n",
       " 0.9603928990699145)"
      ]
     },
     "execution_count": 56,
     "metadata": {},
     "output_type": "execute_result"
    }
   ],
   "source": [
    "paramTest1 = {'max_depth': range(2, 10, 1), 'num_leaves': range(5, 100, 5)}\n",
    "\n",
    "gsearch1 = GridSearchCV(estimator = lgb.LGBMClassifier(boosting_type='gbdt',\n",
    "                                                       objective='binary',\n",
    "                                                       metrics='auc',\n",
    "                                                       learning_rate=0.1,\n",
    "                                                       n_estimators=83,\n",
    "                                                       bagging_fraction = 0.8,\n",
    "                                                       feature_fraction = 0.8),\n",
    "                        param_grid=paramTest1, scoring='roc_auc', cv=5, n_jobs=-1)\n",
    "gsearch1.fit(train_data.drop(columns='loan_status'), train_data['loan_status'])\n",
    "gsearch1.cv_results_['mean_test_score'], gsearch1.cv_results_['mean_test_score'].mean()"
   ]
  },
  {
   "cell_type": "code",
   "execution_count": 57,
   "id": "58c1300d-0cbf-468d-8ef2-0c1223f5e624",
   "metadata": {},
   "outputs": [
    {
     "data": {
      "text/plain": [
       "LGBMClassifier(bagging_fraction=0.8, feature_fraction=0.8, max_depth=4,\n",
       "               metrics='auc', n_estimators=83, num_leaves=10,\n",
       "               objective='binary')"
      ]
     },
     "execution_count": 57,
     "metadata": {},
     "output_type": "execute_result"
    }
   ],
   "source": [
    "clf1 = gsearch1.best_estimator_\n",
    "clf1"
   ]
  },
  {
   "cell_type": "markdown",
   "id": "7ed79d51-c962-4554-a627-806a2340326f",
   "metadata": {},
   "source": [
    "optimal value for `max_depth` is 4 and optimal value for `num_leaves` is 10."
   ]
  },
  {
   "cell_type": "markdown",
   "id": "dde8439d-d572-44e4-ba43-abf204cc8dbe",
   "metadata": {},
   "source": [
    "看一下第一轮过后的表现，准确率 `accuracy` 为 0.91764，`roc_auc` 为 0.875699 "
   ]
  },
  {
   "cell_type": "code",
   "execution_count": 58,
   "id": "8fcbeb6b-02bd-4dde-9308-c1702ec11e56",
   "metadata": {},
   "outputs": [
    {
     "data": {
      "text/plain": [
       "{'accuracy': 0.91764, 'roc_auc': 0.8756988382937406}"
      ]
     },
     "execution_count": 58,
     "metadata": {},
     "output_type": "execute_result"
    }
   ],
   "source": [
    "def results(clf, data):\n",
    "    y_pred = clf.predict(data.drop(columns='loan_status'))\n",
    "    y_pred = np.array(list(map(lambda x: 1 if x >= 0.5 else 0, y_pred)))\n",
    "    y = data['loan_status']\n",
    "    return {'accuracy': accuracy_score(y, y_pred),\n",
    "            'roc_auc': roc_auc_score(y, y_pred)}\n",
    "\n",
    "results(clf1, test_data)"
   ]
  },
  {
   "cell_type": "markdown",
   "id": "f6b6bce5-1134-4a37-9b49-9826281c5ac8",
   "metadata": {},
   "source": [
    "现在开始进行第二轮网格搜索调参，第二轮的参数为 `min_data_in_leaf`；得到的最优值为 140"
   ]
  },
  {
   "cell_type": "code",
   "execution_count": 59,
   "id": "578b5e4e-ac9f-4aac-89d1-a9d24d50babe",
   "metadata": {},
   "outputs": [
    {
     "name": "stdout",
     "output_type": "stream",
     "text": [
      "[LightGBM] [Warning] feature_fraction is set=0.8, colsample_bytree=1.0 will be ignored. Current value: feature_fraction=0.8\n",
      "[LightGBM] [Warning] min_data_in_leaf is set=140, min_child_samples=20 will be ignored. Current value: min_data_in_leaf=140\n",
      "[LightGBM] [Warning] bagging_fraction is set=0.8, subsample=1.0 will be ignored. Current value: bagging_fraction=0.8\n"
     ]
    },
    {
     "data": {
      "text/plain": [
       "(array([0.96059155, 0.96057467, 0.96053096, 0.96057324, 0.96055448,\n",
       "        0.96055347, 0.96061442, 0.96056771, 0.9606309 , 0.96072561,\n",
       "        0.96068197, 0.96066348, 0.96071941, 0.9607305 , 0.96061674,\n",
       "        0.96058627, 0.96060219, 0.96053595, 0.96059588, 0.96066609,\n",
       "        0.9606667 , 0.96071893, 0.96077546, 0.96059836, 0.96064973,\n",
       "        0.96074422, 0.96067689, 0.96078756, 0.96063708, 0.96052441]),\n",
       " 0.9606364933221986)"
      ]
     },
     "execution_count": 59,
     "metadata": {},
     "output_type": "execute_result"
    }
   ],
   "source": [
    "paramTest2 = {'min_data_in_leaf': range(5, 155, 5)}\n",
    "\n",
    "gsearch2 = GridSearchCV(estimator = lgb.LGBMClassifier(boosting_type='gbdt',\n",
    "                                                       objective='binary',\n",
    "                                                       metrics='auc',\n",
    "                                                       learning_rate=0.1,\n",
    "                                                       n_estimators=82,\n",
    "                                                       max_depth=4,\n",
    "                                                       num_leaves=10,\n",
    "                                                       bagging_fraction = 0.8,\n",
    "                                                       feature_fraction = 0.8),\n",
    "                        param_grid=paramTest2, scoring='roc_auc', cv=5, n_jobs=-1)\n",
    "gsearch2.fit(X_train,y_train)\n",
    "gsearch2.cv_results_['mean_test_score'], gsearch2.cv_results_['mean_test_score'].mean()"
   ]
  },
  {
   "cell_type": "code",
   "execution_count": 60,
   "id": "fa302acc-2270-4552-9a05-879ff8bbd504",
   "metadata": {},
   "outputs": [
    {
     "data": {
      "text/plain": [
       "{'min_data_in_leaf': 140}"
      ]
     },
     "execution_count": 60,
     "metadata": {},
     "output_type": "execute_result"
    }
   ],
   "source": [
    "gsearch2.best_params_"
   ]
  },
  {
   "cell_type": "code",
   "execution_count": 61,
   "id": "6ad2de65-e7b4-4e44-baeb-c79e2cc8bf51",
   "metadata": {},
   "outputs": [
    {
     "data": {
      "text/plain": [
       "LGBMClassifier(bagging_fraction=0.8, feature_fraction=0.8, max_depth=4,\n",
       "               metrics='auc', min_data_in_leaf=140, n_estimators=82,\n",
       "               num_leaves=10, objective='binary')"
      ]
     },
     "execution_count": 61,
     "metadata": {},
     "output_type": "execute_result"
    }
   ],
   "source": [
    "clf2 = gsearch2.best_estimator_\n",
    "clf2"
   ]
  },
  {
   "cell_type": "markdown",
   "id": "5d7a7596-adcb-43a7-9569-3875f4d48d66",
   "metadata": {},
   "source": [
    "第二轮过后的表现如下"
   ]
  },
  {
   "cell_type": "code",
   "execution_count": 62,
   "id": "7254bc3f-3620-4381-85ff-f2cbd4df7c24",
   "metadata": {},
   "outputs": [
    {
     "data": {
      "text/plain": [
       "{'accuracy': 0.91762, 'roc_auc': 0.8753765976682328}"
      ]
     },
     "execution_count": 62,
     "metadata": {},
     "output_type": "execute_result"
    }
   ],
   "source": [
    "results(clf2, test_data)"
   ]
  },
  {
   "cell_type": "markdown",
   "id": "659af1a2-2c17-4046-8e1e-765acc7f47aa",
   "metadata": {},
   "source": [
    "第三轮调参的对象是防止过拟合的参数： `lambda_l1` 以及 `lambda_l2`"
   ]
  },
  {
   "cell_type": "code",
   "execution_count": 63,
   "id": "e7e4155a-bfdc-4f7f-8c77-62c71ce155f2",
   "metadata": {},
   "outputs": [
    {
     "name": "stdout",
     "output_type": "stream",
     "text": [
      "[LightGBM] [Warning] feature_fraction is set=0.8, colsample_bytree=1.0 will be ignored. Current value: feature_fraction=0.8\n",
      "[LightGBM] [Warning] min_data_in_leaf is set=140, min_child_samples=20 will be ignored. Current value: min_data_in_leaf=140\n",
      "[LightGBM] [Warning] lambda_l1 is set=0.001, reg_alpha=0.0 will be ignored. Current value: lambda_l1=0.001\n",
      "[LightGBM] [Warning] bagging_fraction is set=0.8, subsample=1.0 will be ignored. Current value: bagging_fraction=0.8\n",
      "[LightGBM] [Warning] lambda_l2 is set=0.001, reg_lambda=0.0 will be ignored. Current value: lambda_l2=0.001\n"
     ]
    },
    {
     "data": {
      "text/plain": [
       "(array([0.96078755, 0.96078753, 0.96062171, 0.96078756, 0.96062171,\n",
       "        0.96062813, 0.96063375, 0.9606609 , 0.96061072, 0.96056447,\n",
       "        0.96077298, 0.96080488, 0.96060907, 0.96077296, 0.96060907,\n",
       "        0.96062493, 0.96063252, 0.96067345, 0.96059741, 0.9605999 ,\n",
       "        0.96063565, 0.96061885, 0.96070876, 0.96063565, 0.96070876,\n",
       "        0.96069257, 0.96062434, 0.96061176, 0.96060351, 0.96067026,\n",
       "        0.96078756, 0.96078753, 0.96062171, 0.96078756, 0.96062171,\n",
       "        0.96062813, 0.96063374, 0.96066087, 0.96061072, 0.96056447,\n",
       "        0.96063565, 0.96061885, 0.96070876, 0.96063565, 0.96070876,\n",
       "        0.96069257, 0.96062434, 0.96061176, 0.96060351, 0.96067026,\n",
       "        0.96065666, 0.96065662, 0.96069431, 0.96065666, 0.96069431,\n",
       "        0.96055566, 0.96072729, 0.96076221, 0.96072778, 0.9606771 ,\n",
       "        0.96061636, 0.96061637, 0.96061122, 0.96061634, 0.96061122,\n",
       "        0.96058555, 0.96070384, 0.96062638, 0.96061826, 0.96062976,\n",
       "        0.96076249, 0.96076236, 0.96075459, 0.96076249, 0.96075459,\n",
       "        0.96063745, 0.96065886, 0.96065782, 0.96059195, 0.96060302,\n",
       "        0.96062758, 0.96062766, 0.96067657, 0.96062758, 0.96067657,\n",
       "        0.96060148, 0.9606397 , 0.96058609, 0.96073001, 0.96075929,\n",
       "        0.96069248, 0.96069239, 0.96061304, 0.96069248, 0.96061304,\n",
       "        0.96064063, 0.96062726, 0.96068497, 0.96068147, 0.96067488]),\n",
       " 0.9606628013226058)"
      ]
     },
     "execution_count": 63,
     "metadata": {},
     "output_type": "execute_result"
    }
   ],
   "source": [
    "paramTest3 = {'lambda_l1': [1e-5, 1e-3, 1e-1, 0.0, 0.1, 0.3, 0.5, 0.7, 0.9, 1.0],\n",
    "              'lambda_l2': [1e-5, 1e-3, 1e-1, 0.0, 0.1, 0.3, 0.5, 0.7, 0.9, 1.0]\n",
    "}\n",
    "\n",
    "gsearch3 = GridSearchCV(estimator = lgb.LGBMClassifier(boosting_type='gbdt',\n",
    "                                                       objective='binary',\n",
    "                                                       metrics='auc',\n",
    "                                                       learning_rate=0.1,\n",
    "                                                       n_estimators=82,\n",
    "                                                       min_data_in_leaf=140,\n",
    "                                                       max_depth=4,\n",
    "                                                       num_leaves=10,\n",
    "                                                       bagging_fraction = 0.8,\n",
    "                                                       feature_fraction = 0.8),\n",
    "                        param_grid=paramTest3, scoring='roc_auc', cv=5, n_jobs=-1)\n",
    "gsearch3.fit(X_train,y_train)\n",
    "gsearch3.cv_results_['mean_test_score'], gsearch3.cv_results_['mean_test_score'].mean()"
   ]
  },
  {
   "cell_type": "code",
   "execution_count": 64,
   "id": "d30a5ed6-49d2-473b-a185-a43a20e05ff4",
   "metadata": {},
   "outputs": [
    {
     "data": {
      "text/plain": [
       "{'lambda_l1': 0.001, 'lambda_l2': 0.001}"
      ]
     },
     "execution_count": 64,
     "metadata": {},
     "output_type": "execute_result"
    }
   ],
   "source": [
    "gsearch3.best_params_"
   ]
  },
  {
   "cell_type": "code",
   "execution_count": 65,
   "id": "a3c18eb7-8872-4ca5-9734-6b0fe24d6dac",
   "metadata": {},
   "outputs": [
    {
     "data": {
      "text/plain": [
       "LGBMClassifier(bagging_fraction=0.8, feature_fraction=0.8, lambda_l1=0.001,\n",
       "               lambda_l2=0.001, max_depth=4, metrics='auc',\n",
       "               min_data_in_leaf=140, n_estimators=82, num_leaves=10,\n",
       "               objective='binary')"
      ]
     },
     "execution_count": 65,
     "metadata": {},
     "output_type": "execute_result"
    }
   ],
   "source": [
    "clf3 = gsearch3.best_estimator_\n",
    "clf3"
   ]
  },
  {
   "cell_type": "code",
   "execution_count": 66,
   "id": "e0c2fd4e-62e6-4aa0-a983-d4c0ad721d8d",
   "metadata": {},
   "outputs": [
    {
     "data": {
      "text/plain": [
       "{'accuracy': 0.91762, 'roc_auc': 0.8753765976682328}"
      ]
     },
     "execution_count": 66,
     "metadata": {},
     "output_type": "execute_result"
    }
   ],
   "source": [
    "results(clf3, test_data)"
   ]
  },
  {
   "cell_type": "markdown",
   "id": "6e76288c-de25-41f0-a75d-e9e7765c603e",
   "metadata": {},
   "source": [
    "最后得到的完整模型如下，结合了前三轮网格调参的结果，然后把 `learning_rate` 调低为 0.01，`n_estimators` 提高到 800，并且去掉了两个正则化系数，因为结果表明模型过拟合不明显"
   ]
  },
  {
   "cell_type": "code",
   "execution_count": 76,
   "id": "fb58bdaf-7f12-44d1-b68a-6db9ef53dca8",
   "metadata": {},
   "outputs": [
    {
     "name": "stdout",
     "output_type": "stream",
     "text": [
      "[LightGBM] [Warning] feature_fraction is set=0.8, colsample_bytree=1.0 will be ignored. Current value: feature_fraction=0.8\n",
      "[LightGBM] [Warning] min_data_in_leaf is set=140, min_child_samples=20 will be ignored. Current value: min_data_in_leaf=140\n",
      "[LightGBM] [Warning] bagging_fraction is set=0.8, subsample=1.0 will be ignored. Current value: bagging_fraction=0.8\n"
     ]
    },
    {
     "data": {
      "text/plain": [
       "{'accuracy': 0.91788, 'roc_auc': 0.8753445529179209}"
      ]
     },
     "execution_count": 76,
     "metadata": {},
     "output_type": "execute_result"
    }
   ],
   "source": [
    "clf = lgb.LGBMClassifier(\n",
    "    learning_rate=0.01,\n",
    "    n_estimators=800,\n",
    "    bagging_fraction=0.8,\n",
    "    feature_fraction=0.8,\n",
    "#     lambda_l1=0.1,\n",
    "#     lambda_l2=0.5,\n",
    "    max_depth=4,\n",
    "    boosting_type='gbdt',\n",
    "    metrics='auc',\n",
    "    min_data_in_leaf=140,\n",
    "    num_leaves=10,\n",
    "    objective='binary'\n",
    ")\n",
    "clf.fit(X_train, y_train)\n",
    "results(clf, test_data)"
   ]
  },
  {
   "cell_type": "markdown",
   "id": "a079dfbf-cf5b-4977-b277-1e6dac4aaaf8",
   "metadata": {},
   "source": [
    "最后在测试集上得到的结果是：`accuray` 为 0.91788，`roc_auc` 则为 0.875345"
   ]
  },
  {
   "cell_type": "code",
   "execution_count": null,
   "id": "2a3b1ee2-f2bd-44ea-8e06-c62eb39f222d",
   "metadata": {},
   "outputs": [],
   "source": []
  }
 ],
 "metadata": {
  "kernelspec": {
   "display_name": "Python 3",
   "language": "python",
   "name": "python3"
  },
  "language_info": {
   "codemirror_mode": {
    "name": "ipython",
    "version": 3
   },
   "file_extension": ".py",
   "mimetype": "text/x-python",
   "name": "python",
   "nbconvert_exporter": "python",
   "pygments_lexer": "ipython3",
   "version": "3.7.10"
  }
 },
 "nbformat": 4,
 "nbformat_minor": 5
}
